{
 "cells": [
  {
   "cell_type": "code",
   "execution_count": 80,
   "metadata": {},
   "outputs": [],
   "source": [
    "import pandas as pd\n",
    "import numpy as np"
   ]
  },
  {
   "cell_type": "code",
   "execution_count": 81,
   "metadata": {},
   "outputs": [
    {
     "data": {
      "text/html": [
       "<div>\n",
       "<style scoped>\n",
       "    .dataframe tbody tr th:only-of-type {\n",
       "        vertical-align: middle;\n",
       "    }\n",
       "\n",
       "    .dataframe tbody tr th {\n",
       "        vertical-align: top;\n",
       "    }\n",
       "\n",
       "    .dataframe thead th {\n",
       "        text-align: right;\n",
       "    }\n",
       "</style>\n",
       "<table border=\"1\" class=\"dataframe\">\n",
       "  <thead>\n",
       "    <tr style=\"text-align: right;\">\n",
       "      <th></th>\n",
       "      <th>Brand</th>\n",
       "      <th>Date</th>\n",
       "      <th>District</th>\n",
       "      <th>Engine_capacity</th>\n",
       "      <th>Engine_power</th>\n",
       "      <th>From_who</th>\n",
       "      <th>Fuel_type</th>\n",
       "      <th>Gear_type</th>\n",
       "      <th>Kilometer</th>\n",
       "      <th>Model</th>\n",
       "      <th>Model_year</th>\n",
       "      <th>Price</th>\n",
       "      <th>Title</th>\n",
       "      <th>Variant</th>\n",
       "    </tr>\n",
       "  </thead>\n",
       "  <tbody>\n",
       "    <tr>\n",
       "      <th>0</th>\n",
       "      <td>Chrysler</td>\n",
       "      <td>27/12/2020</td>\n",
       "      <td>/ Beylikdüzü / Beylikdüzü\\n</td>\n",
       "      <td>2501-3000 cc</td>\n",
       "      <td>Bilmiyorum</td>\n",
       "      <td>\\n                                            ...</td>\n",
       "      <td>\\n                Dizel\\n</td>\n",
       "      <td>Otomatik Vites</td>\n",
       "      <td>221.000</td>\n",
       "      <td>300 C</td>\n",
       "      <td>2009</td>\n",
       "      <td>\\n            215.000 TL\\n</td>\n",
       "      <td>\\n                                            ...</td>\n",
       "      <td>3.0 CRD</td>\n",
       "    </tr>\n",
       "    <tr>\n",
       "      <th>1</th>\n",
       "      <td>Dodge</td>\n",
       "      <td>03/12/2020</td>\n",
       "      <td>/ Büyükçekmece / Büyükçekmece\\n</td>\n",
       "      <td>2501-3000 cc</td>\n",
       "      <td>Bilmiyorum</td>\n",
       "      <td>\\n                                            ...</td>\n",
       "      <td>\\n                Dizel\\n</td>\n",
       "      <td>Otomatik Vites</td>\n",
       "      <td>213.000</td>\n",
       "      <td>Nitro</td>\n",
       "      <td>2008</td>\n",
       "      <td>\\n            172.000 TL\\n</td>\n",
       "      <td>\\n                                            ...</td>\n",
       "      <td>2.8 CRD SXT</td>\n",
       "    </tr>\n",
       "    <tr>\n",
       "      <th>2</th>\n",
       "      <td>Fiat</td>\n",
       "      <td>19/02/2021</td>\n",
       "      <td>/ Altındağ / Altındağ\\n</td>\n",
       "      <td>1300 cc ve altı</td>\n",
       "      <td>100 BG ve altı</td>\n",
       "      <td>\\n                                            ...</td>\n",
       "      <td>\\n                Dizel\\n</td>\n",
       "      <td>Düz Vites</td>\n",
       "      <td>172.600</td>\n",
       "      <td>Linea</td>\n",
       "      <td>2014</td>\n",
       "      <td>\\n            87.700 TL\\n</td>\n",
       "      <td>\\n                                            ...</td>\n",
       "      <td>1.3 Multijet Pop</td>\n",
       "    </tr>\n",
       "    <tr>\n",
       "      <th>3</th>\n",
       "      <td>Alfa Romeo</td>\n",
       "      <td>24/01/2021</td>\n",
       "      <td>/ Seyhan / Yeşiloba\\n</td>\n",
       "      <td>1801-2000 cc</td>\n",
       "      <td>Bilmiyorum</td>\n",
       "      <td>\\n                                            ...</td>\n",
       "      <td>\\n                Benzin\\n</td>\n",
       "      <td>Otomatik Vites</td>\n",
       "      <td>13.000</td>\n",
       "      <td>Stelvio</td>\n",
       "      <td>2018</td>\n",
       "      <td>\\n            875.000 TL\\n</td>\n",
       "      <td>\\n                                            ...</td>\n",
       "      <td>Diğer</td>\n",
       "    </tr>\n",
       "    <tr>\n",
       "      <th>4</th>\n",
       "      <td>BMW</td>\n",
       "      <td>15/02/2021</td>\n",
       "      <td>/ Esenyurt / Merkez\\n</td>\n",
       "      <td>1301-1600 cc</td>\n",
       "      <td>Bilmiyorum</td>\n",
       "      <td>\\n                                            ...</td>\n",
       "      <td>\\n                Benzin\\n</td>\n",
       "      <td>Yarı Otomatik Vites</td>\n",
       "      <td>108.000</td>\n",
       "      <td>3 Serisi</td>\n",
       "      <td>2016</td>\n",
       "      <td>\\n            359.950 TL\\n</td>\n",
       "      <td>\\n                                            ...</td>\n",
       "      <td>320i ED M Plus</td>\n",
       "    </tr>\n",
       "  </tbody>\n",
       "</table>\n",
       "</div>"
      ],
      "text/plain": [
       "        Brand        Date                              District  \\\n",
       "0    Chrysler  27/12/2020       / Beylikdüzü / Beylikdüzü\\n       \n",
       "1       Dodge  03/12/2020   / Büyükçekmece / Büyükçekmece\\n       \n",
       "2        Fiat  19/02/2021           / Altındağ / Altındağ\\n       \n",
       "3  Alfa Romeo  24/01/2021             / Seyhan / Yeşiloba\\n       \n",
       "4         BMW  15/02/2021             / Esenyurt / Merkez\\n       \n",
       "\n",
       "   Engine_capacity    Engine_power  \\\n",
       "0     2501-3000 cc      Bilmiyorum   \n",
       "1     2501-3000 cc      Bilmiyorum   \n",
       "2  1300 cc ve altı  100 BG ve altı   \n",
       "3     1801-2000 cc      Bilmiyorum   \n",
       "4     1301-1600 cc      Bilmiyorum   \n",
       "\n",
       "                                            From_who  \\\n",
       "0  \\n                                            ...   \n",
       "1  \\n                                            ...   \n",
       "2  \\n                                            ...   \n",
       "3  \\n                                            ...   \n",
       "4  \\n                                            ...   \n",
       "\n",
       "                                Fuel_type            Gear_type Kilometer  \\\n",
       "0   \\n                Dizel\\n                   Otomatik Vites   221.000   \n",
       "1   \\n                Dizel\\n                   Otomatik Vites   213.000   \n",
       "2   \\n                Dizel\\n                        Düz Vites   172.600   \n",
       "3  \\n                Benzin\\n                   Otomatik Vites    13.000   \n",
       "4  \\n                Benzin\\n              Yarı Otomatik Vites   108.000   \n",
       "\n",
       "      Model  Model_year                               Price  \\\n",
       "0     300 C        2009  \\n            215.000 TL\\n           \n",
       "1     Nitro        2008  \\n            172.000 TL\\n           \n",
       "2     Linea        2014   \\n            87.700 TL\\n           \n",
       "3   Stelvio        2018  \\n            875.000 TL\\n           \n",
       "4  3 Serisi        2016  \\n            359.950 TL\\n           \n",
       "\n",
       "                                               Title           Variant  \n",
       "0  \\n                                            ...           3.0 CRD  \n",
       "1  \\n                                            ...       2.8 CRD SXT  \n",
       "2  \\n                                            ...  1.3 Multijet Pop  \n",
       "3  \\n                                            ...             Diğer  \n",
       "4  \\n                                            ...    320i ED M Plus  "
      ]
     },
     "execution_count": 81,
     "metadata": {},
     "output_type": "execute_result"
    }
   ],
   "source": [
    "data = pd.read_csv(\"Scraping_Cars.csv\")\n",
    "data.head()\n"
   ]
  },
  {
   "cell_type": "code",
   "execution_count": 47,
   "metadata": {},
   "outputs": [
    {
     "data": {
      "text/plain": [
       "(19476, 14)"
      ]
     },
     "execution_count": 47,
     "metadata": {},
     "output_type": "execute_result"
    }
   ],
   "source": [
    "data.shape"
   ]
  },
  {
   "cell_type": "code",
   "execution_count": 48,
   "metadata": {
    "scrolled": true
   },
   "outputs": [
    {
     "name": "stdout",
     "output_type": "stream",
     "text": [
      "<class 'pandas.core.frame.DataFrame'>\n",
      "RangeIndex: 19476 entries, 0 to 19475\n",
      "Data columns (total 14 columns):\n",
      " #   Column           Non-Null Count  Dtype \n",
      "---  ------           --------------  ----- \n",
      " 0   Brand            19476 non-null  object\n",
      " 1   Date             19476 non-null  object\n",
      " 2   District         18527 non-null  object\n",
      " 3   Engine_capacity  19476 non-null  object\n",
      " 4   Engine_power     19476 non-null  object\n",
      " 5   From_who         19476 non-null  object\n",
      " 6   Fuel_type        19476 non-null  object\n",
      " 7   Gear_type        19476 non-null  object\n",
      " 8   Kilometer        19476 non-null  object\n",
      " 9   Model            19476 non-null  object\n",
      " 10  Model_year       19476 non-null  int64 \n",
      " 11  Price            19476 non-null  object\n",
      " 12  Title            19476 non-null  object\n",
      " 13  Variant          19476 non-null  object\n",
      "dtypes: int64(1), object(13)\n",
      "memory usage: 2.1+ MB\n"
     ]
    }
   ],
   "source": [
    "data.info()"
   ]
  },
  {
   "cell_type": "code",
   "execution_count": 49,
   "metadata": {},
   "outputs": [
    {
     "data": {
      "text/html": [
       "<div>\n",
       "<style scoped>\n",
       "    .dataframe tbody tr th:only-of-type {\n",
       "        vertical-align: middle;\n",
       "    }\n",
       "\n",
       "    .dataframe tbody tr th {\n",
       "        vertical-align: top;\n",
       "    }\n",
       "\n",
       "    .dataframe thead th {\n",
       "        text-align: right;\n",
       "    }\n",
       "</style>\n",
       "<table border=\"1\" class=\"dataframe\">\n",
       "  <thead>\n",
       "    <tr style=\"text-align: right;\">\n",
       "      <th></th>\n",
       "      <th>Model_year</th>\n",
       "    </tr>\n",
       "  </thead>\n",
       "  <tbody>\n",
       "    <tr>\n",
       "      <th>count</th>\n",
       "      <td>19476.000000</td>\n",
       "    </tr>\n",
       "    <tr>\n",
       "      <th>mean</th>\n",
       "      <td>2012.432532</td>\n",
       "    </tr>\n",
       "    <tr>\n",
       "      <th>std</th>\n",
       "      <td>6.716448</td>\n",
       "    </tr>\n",
       "    <tr>\n",
       "      <th>min</th>\n",
       "      <td>1954.000000</td>\n",
       "    </tr>\n",
       "    <tr>\n",
       "      <th>25%</th>\n",
       "      <td>2010.000000</td>\n",
       "    </tr>\n",
       "    <tr>\n",
       "      <th>50%</th>\n",
       "      <td>2014.000000</td>\n",
       "    </tr>\n",
       "    <tr>\n",
       "      <th>75%</th>\n",
       "      <td>2017.000000</td>\n",
       "    </tr>\n",
       "    <tr>\n",
       "      <th>max</th>\n",
       "      <td>2021.000000</td>\n",
       "    </tr>\n",
       "  </tbody>\n",
       "</table>\n",
       "</div>"
      ],
      "text/plain": [
       "         Model_year\n",
       "count  19476.000000\n",
       "mean    2012.432532\n",
       "std        6.716448\n",
       "min     1954.000000\n",
       "25%     2010.000000\n",
       "50%     2014.000000\n",
       "75%     2017.000000\n",
       "max     2021.000000"
      ]
     },
     "execution_count": 49,
     "metadata": {},
     "output_type": "execute_result"
    }
   ],
   "source": [
    "data.describe()"
   ]
  },
  {
   "cell_type": "code",
   "execution_count": 50,
   "metadata": {},
   "outputs": [
    {
     "data": {
      "text/plain": [
       "Index(['Brand', 'Date', 'District', 'Engine_capacity', 'Engine_power',\n",
       "       'From_who', 'Fuel_type', 'Gear_type', 'Kilometer', 'Model',\n",
       "       'Model_year', 'Price', 'Title', 'Variant'],\n",
       "      dtype='object')"
      ]
     },
     "execution_count": 50,
     "metadata": {},
     "output_type": "execute_result"
    }
   ],
   "source": [
    "data.columns"
   ]
  },
  {
   "cell_type": "code",
   "execution_count": 51,
   "metadata": {},
   "outputs": [
    {
     "data": {
      "text/plain": [
       "Brand                0\n",
       "Date                 0\n",
       "District           949\n",
       "Engine_capacity      0\n",
       "Engine_power         0\n",
       "From_who             0\n",
       "Fuel_type            0\n",
       "Gear_type            0\n",
       "Kilometer            0\n",
       "Model                0\n",
       "Model_year           0\n",
       "Price                0\n",
       "Title                0\n",
       "Variant              0\n",
       "dtype: int64"
      ]
     },
     "execution_count": 51,
     "metadata": {},
     "output_type": "execute_result"
    }
   ],
   "source": [
    "data.isnull().sum()"
   ]
  },
  {
   "cell_type": "code",
   "execution_count": 52,
   "metadata": {},
   "outputs": [
    {
     "data": {
      "text/plain": [
       "0             \\n                Dizel\\n            \n",
       "1             \\n                Dizel\\n            \n",
       "2             \\n                Dizel\\n            \n",
       "3            \\n                Benzin\\n            \n",
       "4            \\n                Benzin\\n            \n",
       "                            ...                    \n",
       "19471    \\n                Benzin/LPG\\n            \n",
       "19472        \\n                Benzin\\n            \n",
       "19473         \\n                Dizel\\n            \n",
       "19474    \\n                Benzin/LPG\\n            \n",
       "19475         \\n                Dizel\\n            \n",
       "Name: Fuel_type, Length: 19476, dtype: object"
      ]
     },
     "execution_count": 52,
     "metadata": {},
     "output_type": "execute_result"
    }
   ],
   "source": [
    "data.Fuel_type"
   ]
  },
  {
   "cell_type": "code",
   "execution_count": 53,
   "metadata": {},
   "outputs": [],
   "source": [
    "def preprocess(reviewText):\n",
    "    reviewText= reviewText.str.replace(\" \",\"\")\n",
    "    reviewText= reviewText.str.replace(\"\\n\",\"\")\n",
    "    return reviewText\n",
    "\n",
    "data[\"Fuel_type\"] = preprocess(data[\"Fuel_type\"])"
   ]
  },
  {
   "cell_type": "code",
   "execution_count": 54,
   "metadata": {},
   "outputs": [
    {
     "data": {
      "text/plain": [
       "'Benzin/LPG'"
      ]
     },
     "execution_count": 54,
     "metadata": {},
     "output_type": "execute_result"
    }
   ],
   "source": [
    "data.Fuel_type[19471]"
   ]
  },
  {
   "cell_type": "code",
   "execution_count": 55,
   "metadata": {},
   "outputs": [
    {
     "data": {
      "text/plain": [
       "0        \\n            215.000 TL\\n        \n",
       "1        \\n            172.000 TL\\n        \n",
       "2         \\n            87.700 TL\\n        \n",
       "3        \\n            875.000 TL\\n        \n",
       "4        \\n            359.950 TL\\n        \n",
       "                        ...                \n",
       "19471     \\n            42.500 TL\\n        \n",
       "19472     \\n            85.750 TL\\n        \n",
       "19473    \\n            154.999 TL\\n        \n",
       "19474     \\n            63.200 TL\\n        \n",
       "19475    \\n            149.000 TL\\n        \n",
       "Name: Price, Length: 19476, dtype: object"
      ]
     },
     "execution_count": 55,
     "metadata": {},
     "output_type": "execute_result"
    }
   ],
   "source": [
    "data.Price"
   ]
  },
  {
   "cell_type": "code",
   "execution_count": 56,
   "metadata": {},
   "outputs": [],
   "source": [
    "def preprocess(reviewText):\n",
    "    reviewText= reviewText.str.replace(\" \",\"\")\n",
    "    reviewText= reviewText.str.replace(\"\\n\",\"\")\n",
    "    reviewText= reviewText.str.replace(\"TL\",\"\")\n",
    "    reviewText= reviewText.str.replace(\".\",\"\")\n",
    "    return reviewText\n",
    "\n",
    "data[\"Price\"] = preprocess(data[\"Price\"])"
   ]
  },
  {
   "cell_type": "code",
   "execution_count": 57,
   "metadata": {},
   "outputs": [
    {
     "data": {
      "text/plain": [
       "str"
      ]
     },
     "execution_count": 57,
     "metadata": {},
     "output_type": "execute_result"
    }
   ],
   "source": [
    "type(data.Price[5])"
   ]
  },
  {
   "cell_type": "code",
   "execution_count": 58,
   "metadata": {},
   "outputs": [
    {
     "data": {
      "text/plain": [
       "'1290000'"
      ]
     },
     "execution_count": 58,
     "metadata": {},
     "output_type": "execute_result"
    }
   ],
   "source": [
    "data.Price[91]"
   ]
  },
  {
   "cell_type": "code",
   "execution_count": 59,
   "metadata": {},
   "outputs": [],
   "source": [
    "data.Price = pd.to_numeric(data.Price)"
   ]
  },
  {
   "cell_type": "code",
   "execution_count": 60,
   "metadata": {},
   "outputs": [
    {
     "data": {
      "text/plain": [
       "0        215000\n",
       "1        172000\n",
       "2         87700\n",
       "3        875000\n",
       "4        359950\n",
       "          ...  \n",
       "19471     42500\n",
       "19472     85750\n",
       "19473    154999\n",
       "19474     63200\n",
       "19475    149000\n",
       "Name: Price, Length: 19476, dtype: int64"
      ]
     },
     "execution_count": 60,
     "metadata": {},
     "output_type": "execute_result"
    }
   ],
   "source": [
    "data.Price"
   ]
  },
  {
   "cell_type": "code",
   "execution_count": 61,
   "metadata": {},
   "outputs": [
    {
     "data": {
      "text/plain": [
       "dtype('int64')"
      ]
     },
     "execution_count": 61,
     "metadata": {},
     "output_type": "execute_result"
    }
   ],
   "source": [
    "data.Price.dtype"
   ]
  },
  {
   "cell_type": "code",
   "execution_count": 62,
   "metadata": {},
   "outputs": [
    {
     "data": {
      "text/plain": [
       "0        \\n                                            ...\n",
       "1        \\n                                            ...\n",
       "2        \\n                                            ...\n",
       "3        \\n                                            ...\n",
       "4        \\n                                            ...\n",
       "                               ...                        \n",
       "19471    \\n                                            ...\n",
       "19472    \\n                                            ...\n",
       "19473    \\n                                            ...\n",
       "19474    \\n                                            ...\n",
       "19475    \\n                                            ...\n",
       "Name: Title, Length: 19476, dtype: object"
      ]
     },
     "execution_count": 62,
     "metadata": {},
     "output_type": "execute_result"
    }
   ],
   "source": [
    "data.Title"
   ]
  },
  {
   "cell_type": "code",
   "execution_count": 63,
   "metadata": {},
   "outputs": [],
   "source": [
    "def preprocess(reviewText):\n",
    "    reviewText= reviewText.str.replace(\"\\n\",\"\")\n",
    "    reviewText= reviewText.str.lstrip()\n",
    "    reviewText= reviewText.str.rstrip()\n",
    "    return reviewText\n",
    "\n",
    "data[\"Title\"] = preprocess(data[\"Title\"])"
   ]
  },
  {
   "cell_type": "code",
   "execution_count": 64,
   "metadata": {},
   "outputs": [
    {
     "data": {
      "text/plain": [
       "'2005 MODEL BMV 116I'"
      ]
     },
     "execution_count": 64,
     "metadata": {},
     "output_type": "execute_result"
    }
   ],
   "source": [
    "data.Title[105]"
   ]
  },
  {
   "cell_type": "code",
   "execution_count": 65,
   "metadata": {},
   "outputs": [
    {
     "data": {
      "text/plain": [
       "0                   3.0 CRD\n",
       "1               2.8 CRD SXT\n",
       "2          1.3 Multijet Pop\n",
       "3                     Diğer\n",
       "4            320i ED M Plus\n",
       "                ...        \n",
       "19471                1.3 GX\n",
       "19472             1.2 Tekna\n",
       "19473         1.5 DCI Tekna\n",
       "19474             1.5 Tekna\n",
       "19475    1.5 dCi Tekna Pack\n",
       "Name: Variant, Length: 19476, dtype: object"
      ]
     },
     "execution_count": 65,
     "metadata": {},
     "output_type": "execute_result"
    }
   ],
   "source": [
    "data.Variant"
   ]
  },
  {
   "cell_type": "code",
   "execution_count": 66,
   "metadata": {},
   "outputs": [
    {
     "data": {
      "text/plain": [
       "'Sandero'"
      ]
     },
     "execution_count": 66,
     "metadata": {},
     "output_type": "execute_result"
    }
   ],
   "source": [
    "data.Model[1004]"
   ]
  },
  {
   "cell_type": "code",
   "execution_count": 67,
   "metadata": {},
   "outputs": [
    {
     "data": {
      "text/plain": [
       "0        \\n                                            ...\n",
       "1        \\n                                            ...\n",
       "2        \\n                                            ...\n",
       "3        \\n                                            ...\n",
       "4        \\n                                            ...\n",
       "                               ...                        \n",
       "19471    \\n                                    Sahibind...\n",
       "19472    \\n                                    Sahibind...\n",
       "19473    \\n                                    Sahibind...\n",
       "19474    \\n                                    Sahibind...\n",
       "19475    \\n                                            ...\n",
       "Name: From_who, Length: 19476, dtype: object"
      ]
     },
     "execution_count": 67,
     "metadata": {},
     "output_type": "execute_result"
    }
   ],
   "source": [
    "data.From_who"
   ]
  },
  {
   "cell_type": "code",
   "execution_count": 68,
   "metadata": {},
   "outputs": [],
   "source": [
    "def preprocess(reviewText):\n",
    "    reviewText= reviewText.str.replace(\"\\n\",\"\")\n",
    "    reviewText= reviewText.str.lstrip()\n",
    "    reviewText= reviewText.str.rstrip()\n",
    "    return reviewText\n",
    "\n",
    "data[\"From_who\"] = preprocess(data[\"From_who\"])"
   ]
  },
  {
   "cell_type": "code",
   "execution_count": 69,
   "metadata": {},
   "outputs": [
    {
     "data": {
      "text/plain": [
       "0         Galeriden\n",
       "1         Galeriden\n",
       "2         Galeriden\n",
       "3         Galeriden\n",
       "4         Galeriden\n",
       "            ...    \n",
       "19471    Sahibinden\n",
       "19472    Sahibinden\n",
       "19473    Sahibinden\n",
       "19474    Sahibinden\n",
       "19475     Galeriden\n",
       "Name: From_who, Length: 19476, dtype: object"
      ]
     },
     "execution_count": 69,
     "metadata": {},
     "output_type": "execute_result"
    }
   ],
   "source": [
    "data.From_who"
   ]
  },
  {
   "cell_type": "code",
   "execution_count": 70,
   "metadata": {},
   "outputs": [
    {
     "ename": "ValueError",
     "evalue": "Unable to parse string \"2.101.065\" at position 6695",
     "output_type": "error",
     "traceback": [
      "\u001b[1;31m---------------------------------------------------------------------------\u001b[0m",
      "\u001b[1;31mValueError\u001b[0m                                Traceback (most recent call last)",
      "\u001b[1;32mpandas\\_libs\\lib.pyx\u001b[0m in \u001b[0;36mpandas._libs.lib.maybe_convert_numeric\u001b[1;34m()\u001b[0m\n",
      "\u001b[1;31mValueError\u001b[0m: Unable to parse string \"2.101.065\"",
      "\nDuring handling of the above exception, another exception occurred:\n",
      "\u001b[1;31mValueError\u001b[0m                                Traceback (most recent call last)",
      "\u001b[1;32m<ipython-input-70-cf0958390fe6>\u001b[0m in \u001b[0;36m<module>\u001b[1;34m\u001b[0m\n\u001b[1;32m----> 1\u001b[1;33m \u001b[0mdata\u001b[0m\u001b[1;33m.\u001b[0m\u001b[0mKilometer\u001b[0m \u001b[1;33m=\u001b[0m \u001b[0mpd\u001b[0m\u001b[1;33m.\u001b[0m\u001b[0mto_numeric\u001b[0m\u001b[1;33m(\u001b[0m\u001b[0mdata\u001b[0m\u001b[1;33m.\u001b[0m\u001b[0mKilometer\u001b[0m\u001b[1;33m)\u001b[0m\u001b[1;33m\u001b[0m\u001b[1;33m\u001b[0m\u001b[0m\n\u001b[0m",
      "\u001b[1;32m~\\anaconda3\\lib\\site-packages\\pandas\\core\\tools\\numeric.py\u001b[0m in \u001b[0;36mto_numeric\u001b[1;34m(arg, errors, downcast)\u001b[0m\n\u001b[0;32m    150\u001b[0m         \u001b[0mcoerce_numeric\u001b[0m \u001b[1;33m=\u001b[0m \u001b[0merrors\u001b[0m \u001b[1;32mnot\u001b[0m \u001b[1;32min\u001b[0m \u001b[1;33m(\u001b[0m\u001b[1;34m\"ignore\"\u001b[0m\u001b[1;33m,\u001b[0m \u001b[1;34m\"raise\"\u001b[0m\u001b[1;33m)\u001b[0m\u001b[1;33m\u001b[0m\u001b[1;33m\u001b[0m\u001b[0m\n\u001b[0;32m    151\u001b[0m         \u001b[1;32mtry\u001b[0m\u001b[1;33m:\u001b[0m\u001b[1;33m\u001b[0m\u001b[1;33m\u001b[0m\u001b[0m\n\u001b[1;32m--> 152\u001b[1;33m             values = lib.maybe_convert_numeric(\n\u001b[0m\u001b[0;32m    153\u001b[0m                 \u001b[0mvalues\u001b[0m\u001b[1;33m,\u001b[0m \u001b[0mset\u001b[0m\u001b[1;33m(\u001b[0m\u001b[1;33m)\u001b[0m\u001b[1;33m,\u001b[0m \u001b[0mcoerce_numeric\u001b[0m\u001b[1;33m=\u001b[0m\u001b[0mcoerce_numeric\u001b[0m\u001b[1;33m\u001b[0m\u001b[1;33m\u001b[0m\u001b[0m\n\u001b[0;32m    154\u001b[0m             )\n",
      "\u001b[1;32mpandas\\_libs\\lib.pyx\u001b[0m in \u001b[0;36mpandas._libs.lib.maybe_convert_numeric\u001b[1;34m()\u001b[0m\n",
      "\u001b[1;31mValueError\u001b[0m: Unable to parse string \"2.101.065\" at position 6695"
     ]
    }
   ],
   "source": [
    "data.Kilometer = pd.to_numeric(data.Kilometer)"
   ]
  },
  {
   "cell_type": "code",
   "execution_count": 71,
   "metadata": {},
   "outputs": [
    {
     "data": {
      "text/plain": [
       "'2.101.065'"
      ]
     },
     "execution_count": 71,
     "metadata": {},
     "output_type": "execute_result"
    }
   ],
   "source": [
    "data.Kilometer[6695]"
   ]
  },
  {
   "cell_type": "code",
   "execution_count": 72,
   "metadata": {},
   "outputs": [],
   "source": [
    "data.Kilometer = data.Kilometer.str.replace(\".\",\"\")"
   ]
  },
  {
   "cell_type": "code",
   "execution_count": 73,
   "metadata": {},
   "outputs": [],
   "source": [
    "data.Kilometer = pd.to_numeric(data.Kilometer)"
   ]
  },
  {
   "cell_type": "code",
   "execution_count": 74,
   "metadata": {},
   "outputs": [
    {
     "data": {
      "text/plain": [
       "255000"
      ]
     },
     "execution_count": 74,
     "metadata": {},
     "output_type": "execute_result"
    }
   ],
   "source": [
    "data.Kilometer[5]"
   ]
  },
  {
   "cell_type": "code",
   "execution_count": 75,
   "metadata": {},
   "outputs": [
    {
     "data": {
      "text/plain": [
       "' / Seyhan / Yeşiloba\\n    '"
      ]
     },
     "execution_count": 75,
     "metadata": {},
     "output_type": "execute_result"
    }
   ],
   "source": [
    "data.District[5]"
   ]
  },
  {
   "cell_type": "code",
   "execution_count": 76,
   "metadata": {},
   "outputs": [
    {
     "data": {
      "text/plain": [
       "0             / Beylikdüzü / Beylikdüzü\\n    \n",
       "1         / Büyükçekmece / Büyükçekmece\\n    \n",
       "2                 / Altındağ / Altındağ\\n    \n",
       "3                   / Seyhan / Yeşiloba\\n    \n",
       "4                   / Esenyurt / Merkez\\n    \n",
       "                         ...                 \n",
       "19471               / Fethiye / Fethiye\\n    \n",
       "19472               / Fethiye / Çiftlik\\n    \n",
       "19473                       / Kaş / Kaş\\n    \n",
       "19474                 / Merkez / Merkez\\n    \n",
       "19475                / Birecik / Merkez\\n    \n",
       "Name: District, Length: 19476, dtype: object"
      ]
     },
     "execution_count": 76,
     "metadata": {},
     "output_type": "execute_result"
    }
   ],
   "source": [
    "data.District.fillna(value = \"no input\")"
   ]
  },
  {
   "cell_type": "code",
   "execution_count": 77,
   "metadata": {},
   "outputs": [],
   "source": [
    "def preprocess(reviewText):\n",
    "    reviewText= reviewText.str.replace(\"\\n\",\"\")\n",
    "    reviewText= reviewText.str.replace(\" \",\"\")\n",
    "    reviewText= reviewText.str.lstrip(\"/\")\n",
    "\n",
    "    return reviewText\n",
    "\n",
    "data[\"District\"] = preprocess(data[\"District\"])"
   ]
  },
  {
   "cell_type": "code",
   "execution_count": 78,
   "metadata": {},
   "outputs": [
    {
     "data": {
      "text/plain": [
       "0            Beylikdüzü/Beylikdüzü\n",
       "1        Büyükçekmece/Büyükçekmece\n",
       "2                Altındağ/Altındağ\n",
       "3                  Seyhan/Yeşiloba\n",
       "4                  Esenyurt/Merkez\n",
       "                   ...            \n",
       "19471              Fethiye/Fethiye\n",
       "19472              Fethiye/Çiftlik\n",
       "19473                      Kaş/Kaş\n",
       "19474                Merkez/Merkez\n",
       "19475               Birecik/Merkez\n",
       "Name: District, Length: 19476, dtype: object"
      ]
     },
     "execution_count": 78,
     "metadata": {},
     "output_type": "execute_result"
    }
   ],
   "source": [
    "data.District"
   ]
  },
  {
   "cell_type": "code",
   "execution_count": 79,
   "metadata": {},
   "outputs": [
    {
     "data": {
      "text/html": [
       "<div>\n",
       "<style scoped>\n",
       "    .dataframe tbody tr th:only-of-type {\n",
       "        vertical-align: middle;\n",
       "    }\n",
       "\n",
       "    .dataframe tbody tr th {\n",
       "        vertical-align: top;\n",
       "    }\n",
       "\n",
       "    .dataframe thead th {\n",
       "        text-align: right;\n",
       "    }\n",
       "</style>\n",
       "<table border=\"1\" class=\"dataframe\">\n",
       "  <thead>\n",
       "    <tr style=\"text-align: right;\">\n",
       "      <th></th>\n",
       "      <th>Brand</th>\n",
       "      <th>Date</th>\n",
       "      <th>District</th>\n",
       "      <th>Engine_capacity</th>\n",
       "      <th>Engine_power</th>\n",
       "      <th>From_who</th>\n",
       "      <th>Fuel_type</th>\n",
       "      <th>Gear_type</th>\n",
       "      <th>Kilometer</th>\n",
       "      <th>Model</th>\n",
       "      <th>Model_year</th>\n",
       "      <th>Price</th>\n",
       "      <th>Title</th>\n",
       "      <th>Variant</th>\n",
       "    </tr>\n",
       "  </thead>\n",
       "  <tbody>\n",
       "    <tr>\n",
       "      <th>0</th>\n",
       "      <td>Chrysler</td>\n",
       "      <td>27/12/2020</td>\n",
       "      <td>Beylikdüzü/Beylikdüzü</td>\n",
       "      <td>2501-3000 cc</td>\n",
       "      <td>Bilmiyorum</td>\n",
       "      <td>Galeriden</td>\n",
       "      <td>Dizel</td>\n",
       "      <td>Otomatik Vites</td>\n",
       "      <td>221000</td>\n",
       "      <td>300 C</td>\n",
       "      <td>2009</td>\n",
       "      <td>215000</td>\n",
       "      <td>2009 CHRYSLER 300C 3.0 CRD 218 HP 221 BİN KM  ...</td>\n",
       "      <td>3.0 CRD</td>\n",
       "    </tr>\n",
       "    <tr>\n",
       "      <th>1</th>\n",
       "      <td>Dodge</td>\n",
       "      <td>03/12/2020</td>\n",
       "      <td>Büyükçekmece/Büyükçekmece</td>\n",
       "      <td>2501-3000 cc</td>\n",
       "      <td>Bilmiyorum</td>\n",
       "      <td>Galeriden</td>\n",
       "      <td>Dizel</td>\n",
       "      <td>Otomatik Vites</td>\n",
       "      <td>213000</td>\n",
       "      <td>Nitro</td>\n",
       "      <td>2008</td>\n",
       "      <td>172000</td>\n",
       "      <td>2008 DODGE NİTRO 2.8 CRD SXT 4x4 DERi SUNROOF ...</td>\n",
       "      <td>2.8 CRD SXT</td>\n",
       "    </tr>\n",
       "    <tr>\n",
       "      <th>2</th>\n",
       "      <td>Fiat</td>\n",
       "      <td>19/02/2021</td>\n",
       "      <td>Altındağ/Altındağ</td>\n",
       "      <td>1300 cc ve altı</td>\n",
       "      <td>100 BG ve altı</td>\n",
       "      <td>Galeriden</td>\n",
       "      <td>Dizel</td>\n",
       "      <td>Düz Vites</td>\n",
       "      <td>172600</td>\n",
       "      <td>Linea</td>\n",
       "      <td>2014</td>\n",
       "      <td>87700</td>\n",
       "      <td>OTTOHAN DAN 2014 FİAT LİNEA 1.3 MULTİJET POP D...</td>\n",
       "      <td>1.3 Multijet Pop</td>\n",
       "    </tr>\n",
       "    <tr>\n",
       "      <th>3</th>\n",
       "      <td>Alfa Romeo</td>\n",
       "      <td>24/01/2021</td>\n",
       "      <td>Seyhan/Yeşiloba</td>\n",
       "      <td>1801-2000 cc</td>\n",
       "      <td>Bilmiyorum</td>\n",
       "      <td>Galeriden</td>\n",
       "      <td>Benzin</td>\n",
       "      <td>Otomatik Vites</td>\n",
       "      <td>13000</td>\n",
       "      <td>Stelvio</td>\n",
       "      <td>2018</td>\n",
       "      <td>875000</td>\n",
       "      <td>2018 STELVİO KIRMIZI DERİ ŞERİT TAKİP DNA SÜRÜ...</td>\n",
       "      <td>Diğer</td>\n",
       "    </tr>\n",
       "    <tr>\n",
       "      <th>4</th>\n",
       "      <td>BMW</td>\n",
       "      <td>15/02/2021</td>\n",
       "      <td>Esenyurt/Merkez</td>\n",
       "      <td>1301-1600 cc</td>\n",
       "      <td>Bilmiyorum</td>\n",
       "      <td>Galeriden</td>\n",
       "      <td>Benzin</td>\n",
       "      <td>Yarı Otomatik Vites</td>\n",
       "      <td>108000</td>\n",
       "      <td>3 Serisi</td>\n",
       "      <td>2016</td>\n",
       "      <td>359950</td>\n",
       "      <td>2016 BMW 320İ ED M PLUS 108.000 KM DE SERVİS B...</td>\n",
       "      <td>320i ED M Plus</td>\n",
       "    </tr>\n",
       "    <tr>\n",
       "      <th>...</th>\n",
       "      <td>...</td>\n",
       "      <td>...</td>\n",
       "      <td>...</td>\n",
       "      <td>...</td>\n",
       "      <td>...</td>\n",
       "      <td>...</td>\n",
       "      <td>...</td>\n",
       "      <td>...</td>\n",
       "      <td>...</td>\n",
       "      <td>...</td>\n",
       "      <td>...</td>\n",
       "      <td>...</td>\n",
       "      <td>...</td>\n",
       "      <td>...</td>\n",
       "    </tr>\n",
       "    <tr>\n",
       "      <th>19471</th>\n",
       "      <td>Nissan</td>\n",
       "      <td>18/02/2021</td>\n",
       "      <td>Fethiye/Fethiye</td>\n",
       "      <td>1300 cc ve altı</td>\n",
       "      <td>100 BG ve altı</td>\n",
       "      <td>Sahibinden</td>\n",
       "      <td>Benzin/LPG</td>\n",
       "      <td>Düz Vites</td>\n",
       "      <td>260000</td>\n",
       "      <td>Micra</td>\n",
       "      <td>1997</td>\n",
       "      <td>42500</td>\n",
       "      <td>SAHİBİNDEN TEMİZ BAKIMLI KLİMALI VE YENİ MOTOR...</td>\n",
       "      <td>1.3 GX</td>\n",
       "    </tr>\n",
       "    <tr>\n",
       "      <th>19472</th>\n",
       "      <td>Nissan</td>\n",
       "      <td>19/02/2021</td>\n",
       "      <td>Fethiye/Çiftlik</td>\n",
       "      <td>1300 cc ve altı</td>\n",
       "      <td>276-300 BG</td>\n",
       "      <td>Sahibinden</td>\n",
       "      <td>Benzin</td>\n",
       "      <td>Düz Vites</td>\n",
       "      <td>107713</td>\n",
       "      <td>Micra</td>\n",
       "      <td>2004</td>\n",
       "      <td>85750</td>\n",
       "      <td>2004 NİSSAN MICRA</td>\n",
       "      <td>1.2 Tekna</td>\n",
       "    </tr>\n",
       "    <tr>\n",
       "      <th>19473</th>\n",
       "      <td>Nissan</td>\n",
       "      <td>19/02/2021</td>\n",
       "      <td>Kaş/Kaş</td>\n",
       "      <td>1301-1600 cc</td>\n",
       "      <td>101-125 BG</td>\n",
       "      <td>Sahibinden</td>\n",
       "      <td>Dizel</td>\n",
       "      <td>Düz Vites</td>\n",
       "      <td>205000</td>\n",
       "      <td>Qashqai</td>\n",
       "      <td>2011</td>\n",
       "      <td>154999</td>\n",
       "      <td>SAHİBİNDEN CAM TAVANLI</td>\n",
       "      <td>1.5 DCI Tekna</td>\n",
       "    </tr>\n",
       "    <tr>\n",
       "      <th>19474</th>\n",
       "      <td>Nissan</td>\n",
       "      <td>19/02/2021</td>\n",
       "      <td>Merkez/Merkez</td>\n",
       "      <td>1301-1600 cc</td>\n",
       "      <td>100 BG ve altı</td>\n",
       "      <td>Sahibinden</td>\n",
       "      <td>Benzin/LPG</td>\n",
       "      <td>Düz Vites</td>\n",
       "      <td>220262</td>\n",
       "      <td>Almera</td>\n",
       "      <td>2006</td>\n",
       "      <td>63200</td>\n",
       "      <td>MEMURDAN  EKSPERTİZ RAPORLU NİSSAN</td>\n",
       "      <td>1.5 Tekna</td>\n",
       "    </tr>\n",
       "    <tr>\n",
       "      <th>19475</th>\n",
       "      <td>Nissan</td>\n",
       "      <td>20/02/2021</td>\n",
       "      <td>Birecik/Merkez</td>\n",
       "      <td>1301-1600 cc</td>\n",
       "      <td>Bilmiyorum</td>\n",
       "      <td>Galeriden</td>\n",
       "      <td>Dizel</td>\n",
       "      <td>Düz Vites</td>\n",
       "      <td>320000</td>\n",
       "      <td>Qashqai+2</td>\n",
       "      <td>2011</td>\n",
       "      <td>149000</td>\n",
       "      <td>hatasız boyasız cam gibi Nissan Qashqai 2 1.5 ...</td>\n",
       "      <td>1.5 dCi Tekna Pack</td>\n",
       "    </tr>\n",
       "  </tbody>\n",
       "</table>\n",
       "<p>19476 rows × 14 columns</p>\n",
       "</div>"
      ],
      "text/plain": [
       "            Brand        Date                   District  Engine_capacity  \\\n",
       "0        Chrysler  27/12/2020      Beylikdüzü/Beylikdüzü     2501-3000 cc   \n",
       "1           Dodge  03/12/2020  Büyükçekmece/Büyükçekmece     2501-3000 cc   \n",
       "2            Fiat  19/02/2021          Altındağ/Altındağ  1300 cc ve altı   \n",
       "3      Alfa Romeo  24/01/2021            Seyhan/Yeşiloba     1801-2000 cc   \n",
       "4             BMW  15/02/2021            Esenyurt/Merkez     1301-1600 cc   \n",
       "...           ...         ...                        ...              ...   \n",
       "19471      Nissan  18/02/2021            Fethiye/Fethiye  1300 cc ve altı   \n",
       "19472      Nissan  19/02/2021            Fethiye/Çiftlik  1300 cc ve altı   \n",
       "19473      Nissan  19/02/2021                    Kaş/Kaş     1301-1600 cc   \n",
       "19474      Nissan  19/02/2021              Merkez/Merkez     1301-1600 cc   \n",
       "19475      Nissan  20/02/2021             Birecik/Merkez     1301-1600 cc   \n",
       "\n",
       "         Engine_power    From_who   Fuel_type            Gear_type  Kilometer  \\\n",
       "0          Bilmiyorum   Galeriden       Dizel       Otomatik Vites     221000   \n",
       "1          Bilmiyorum   Galeriden       Dizel       Otomatik Vites     213000   \n",
       "2      100 BG ve altı   Galeriden       Dizel            Düz Vites     172600   \n",
       "3          Bilmiyorum   Galeriden      Benzin       Otomatik Vites      13000   \n",
       "4          Bilmiyorum   Galeriden      Benzin  Yarı Otomatik Vites     108000   \n",
       "...               ...         ...         ...                  ...        ...   \n",
       "19471  100 BG ve altı  Sahibinden  Benzin/LPG            Düz Vites     260000   \n",
       "19472      276-300 BG  Sahibinden      Benzin            Düz Vites     107713   \n",
       "19473      101-125 BG  Sahibinden       Dizel            Düz Vites     205000   \n",
       "19474  100 BG ve altı  Sahibinden  Benzin/LPG            Düz Vites     220262   \n",
       "19475      Bilmiyorum   Galeriden       Dizel            Düz Vites     320000   \n",
       "\n",
       "           Model  Model_year   Price  \\\n",
       "0          300 C        2009  215000   \n",
       "1          Nitro        2008  172000   \n",
       "2          Linea        2014   87700   \n",
       "3        Stelvio        2018  875000   \n",
       "4       3 Serisi        2016  359950   \n",
       "...          ...         ...     ...   \n",
       "19471      Micra        1997   42500   \n",
       "19472      Micra        2004   85750   \n",
       "19473    Qashqai        2011  154999   \n",
       "19474     Almera        2006   63200   \n",
       "19475  Qashqai+2        2011  149000   \n",
       "\n",
       "                                                   Title             Variant  \n",
       "0      2009 CHRYSLER 300C 3.0 CRD 218 HP 221 BİN KM  ...             3.0 CRD  \n",
       "1      2008 DODGE NİTRO 2.8 CRD SXT 4x4 DERi SUNROOF ...         2.8 CRD SXT  \n",
       "2      OTTOHAN DAN 2014 FİAT LİNEA 1.3 MULTİJET POP D...    1.3 Multijet Pop  \n",
       "3      2018 STELVİO KIRMIZI DERİ ŞERİT TAKİP DNA SÜRÜ...               Diğer  \n",
       "4      2016 BMW 320İ ED M PLUS 108.000 KM DE SERVİS B...      320i ED M Plus  \n",
       "...                                                  ...                 ...  \n",
       "19471  SAHİBİNDEN TEMİZ BAKIMLI KLİMALI VE YENİ MOTOR...              1.3 GX  \n",
       "19472                                  2004 NİSSAN MICRA           1.2 Tekna  \n",
       "19473                             SAHİBİNDEN CAM TAVANLI       1.5 DCI Tekna  \n",
       "19474                 MEMURDAN  EKSPERTİZ RAPORLU NİSSAN           1.5 Tekna  \n",
       "19475  hatasız boyasız cam gibi Nissan Qashqai 2 1.5 ...  1.5 dCi Tekna Pack  \n",
       "\n",
       "[19476 rows x 14 columns]"
      ]
     },
     "execution_count": 79,
     "metadata": {},
     "output_type": "execute_result"
    }
   ],
   "source": [
    "data"
   ]
  },
  {
   "cell_type": "code",
   "execution_count": null,
   "metadata": {},
   "outputs": [],
   "source": [
    "data.to_csv(\"Car_clean_data.csv\",index=False)"
   ]
  }
 ],
 "metadata": {
  "kernelspec": {
   "display_name": "Python 3",
   "language": "python",
   "name": "python3"
  },
  "language_info": {
   "codemirror_mode": {
    "name": "ipython",
    "version": 3
   },
   "file_extension": ".py",
   "mimetype": "text/x-python",
   "name": "python",
   "nbconvert_exporter": "python",
   "pygments_lexer": "ipython3",
   "version": "3.8.5"
  }
 },
 "nbformat": 4,
 "nbformat_minor": 4
}
